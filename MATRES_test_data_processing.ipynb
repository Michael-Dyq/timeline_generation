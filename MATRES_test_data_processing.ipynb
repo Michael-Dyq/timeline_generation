{
  "nbformat": 4,
  "nbformat_minor": 0,
  "metadata": {
    "colab": {
      "name": "MATRES_test_data_processing.ipynb",
      "provenance": [],
      "mount_file_id": "1jGfcc8H0RaX2kUCwL4KE2MiD-P1qaLvZ",
      "authorship_tag": "ABX9TyOQab9QQkhGPi98XITeusqP",
      "include_colab_link": true
    },
    "kernelspec": {
      "name": "python3",
      "display_name": "Python 3"
    },
    "language_info": {
      "name": "python"
    }
  },
  "cells": [
    {
      "cell_type": "markdown",
      "metadata": {
        "id": "view-in-github",
        "colab_type": "text"
      },
      "source": [
        "<a href=\"https://colab.research.google.com/github/Michael-Dyq/timeline_generation/blob/main/MATRES_test_data_processing.ipynb\" target=\"_parent\"><img src=\"https://colab.research.google.com/assets/colab-badge.svg\" alt=\"Open In Colab\"/></a>"
      ]
    },
    {
      "cell_type": "code",
      "execution_count": 1,
      "metadata": {
        "colab": {
          "base_uri": "https://localhost:8080/"
        },
        "id": "hTN9LBwU9tYo",
        "outputId": "79daac09-c411-4601-e07a-9aba0bfd1099"
      },
      "outputs": [
        {
          "output_type": "stream",
          "name": "stdout",
          "text": [
            "837\n"
          ]
        }
      ],
      "source": [
        "with open('/content/drive/MyDrive/Colab Notebooks/RA/Time/t5_timeline/MATRES/platinum.txt', 'r') as rf:\n",
        "  t3_label = []\n",
        "  lines = rf.readlines()\n",
        "  for line in lines:\n",
        "    t3_label.append(line.split())\n",
        "  print(len(t3_label))"
      ]
    },
    {
      "cell_type": "code",
      "source": [
        "t3_file_names = [x[0] for x in t3_label]\n",
        "t3_file_names = set(t3_file_names)\n",
        "len(t3_file_names) #len = 20\n",
        "t3_file_names"
      ],
      "metadata": {
        "id": "3B3gNXJ1-Nvw"
      },
      "execution_count": null,
      "outputs": []
    },
    {
      "cell_type": "code",
      "source": [
        "t3_dic = {}\n",
        "c = 0\n",
        "for key in t3_file_names:\n",
        "  cur_list = []\n",
        "  for i in t3_label:\n",
        "    if i[0] == key:\n",
        "      cur_list.append(i)\n",
        "      c += 1\n",
        "  t3_dic[key] = cur_list\n",
        "print(c)"
      ],
      "metadata": {
        "colab": {
          "base_uri": "https://localhost:8080/"
        },
        "id": "TZ2qtXAjHrfs",
        "outputId": "97a44abb-fdd8-4791-b6a9-67cbe4ce58ea"
      },
      "execution_count": 7,
      "outputs": [
        {
          "output_type": "stream",
          "name": "stdout",
          "text": [
            "837\n"
          ]
        }
      ]
    },
    {
      "cell_type": "code",
      "source": [
        "t3_dic['AP_20130322']"
      ],
      "metadata": {
        "id": "e-Akn1YOKG8L"
      },
      "execution_count": null,
      "outputs": []
    },
    {
      "cell_type": "code",
      "source": [
        "import re\n",
        "import os\n",
        "import random"
      ],
      "metadata": {
        "id": "kV_9aVVONkAR"
      },
      "execution_count": 8,
      "outputs": []
    },
    {
      "cell_type": "code",
      "source": [
        "doc_name = t3_label[0][0] + '.tml'\n",
        "folder_path = '/content/drive/MyDrive/Colab Notebooks/RA/Time/t5_timeline/MATRES/te3-platinum/'\n",
        "\n",
        "with open(os.path.join(folder_path, doc_name), 'r') as f:\n",
        "    data = f.read()"
      ],
      "metadata": {
        "id": "C1ktB96oNxlX"
      },
      "execution_count": 11,
      "outputs": []
    },
    {
      "cell_type": "code",
      "source": [
        "matres_test_dataset = []\n",
        "folder_path = '/content/drive/MyDrive/Colab Notebooks/RA/Time/t5_timeline/MATRES/te3-platinum/'\n",
        "for doc_name in t3_dic.keys():\n",
        "    doc_name_suffix = doc_name +'.tml'\n",
        "    with open(os.path.join(folder_path, doc_name_suffix), 'r') as f:\n",
        "        data = f.read()\n",
        "    # get the text body\n",
        "    start = data.find('<TEXT>') + 6\n",
        "    end = data.find('</TEXT>') \n",
        "    text_tml = data[start:end].replace('\\n', ' ')\n",
        "    # iterate each event pair in the current document\n",
        "    for ins in t3_dic[doc_name]:\n",
        "        if ins[5] == 'AFTER' or ins[5] == 'BEFORE':\n",
        "            rand_maker = ['<extra_' + str(i) + '>' for i in range(31)]\n",
        "            random.shuffle(rand_maker)\n",
        "            event1 = ins[1]\n",
        "            event2 = ins[2]\n",
        "            event1_id = ins[3]\n",
        "            event2_id = ins[4]\n",
        "            relation = ins[5]\n",
        "            event1_start = text_tml.find('eid=\"e'+str(event1_id)+'\"') + 8 + len(str(event1_id)) \n",
        "            event1_end = event1_start+len(event1)\n",
        "            # insert <extra_id> behind the event 1 \n",
        "            if text_tml[event1_start:event1_end] == event1:\n",
        "                #print(text_tml[:event1_end] + \" \" + rand_maker[0] + text_tml[event1_end:])\n",
        "                text_tml = text_tml[:event1_end] + \" \" + rand_maker[0] + text_tml[event1_end:]\n",
        "            else: \n",
        "                print('event_1 does not match!')\n",
        "            # insert <extra_id> behind the event 22\n",
        "            event2_start = text_tml.find('eid=\"e'+str(event2_id)+'\"') + 8 + len(str(event2_id)) \n",
        "            event2_end = event2_start+len(event2)\n",
        "            if text_tml[event2_start:event2_end] == event2:\n",
        "                #print(text_tml[:event2_end] + \" \" + rand_maker[1] + text_tml[event2_end:])\n",
        "                text_tml = text_tml[:event2_end] + \" \" + rand_maker[1] + text_tml[event2_end:]\n",
        "            else:\n",
        "                print('event_2 does not match!')\n",
        "                print(ins)\n",
        "                continue\n",
        "            # remove <EVENT> and <TIMEX3> in the text\n",
        "            re_event=re.compile('</?EVENT.*?>')\n",
        "            re_timex3=re.compile('</?TIMEX3.*?>')\n",
        "            clean_text=re_event.sub('',text_tml)\n",
        "            clean_text=re_timex3.sub('',clean_text)\n",
        "\n",
        "            # add prefixt 'timeline generate'\n",
        "            processed_text= 'timeline generate:' + clean_text\n",
        "\n",
        "            # generate label\n",
        "            if relation == \"BEFORE\":\n",
        "                label = rand_maker[0] + ', ' + rand_maker[1]\n",
        "            else:\n",
        "                label = rand_maker[1] + ', ' + rand_maker[0]\n",
        "\n",
        "            matres_test_dataset.append((processed_text, label))\n",
        "            \n",
        "        else:\n",
        "            continue\n",
        "\n",
        "len(matres_test_dataset)     "
      ],
      "metadata": {
        "colab": {
          "base_uri": "https://localhost:8080/"
        },
        "id": "PI_KZVAJROgZ",
        "outputId": "394d7eb3-c831-4757-e58d-b4334d3698af"
      },
      "execution_count": 32,
      "outputs": [
        {
          "output_type": "stream",
          "name": "stdout",
          "text": [
            "event_2 does not match!\n",
            "['CNN_20130321_821', 'unleashed', 'intended', '8', '1000', 'BEFORE']\n"
          ]
        },
        {
          "output_type": "execute_result",
          "data": {
            "text/plain": [
              "692"
            ]
          },
          "metadata": {},
          "execution_count": 32
        }
      ]
    },
    {
      "cell_type": "code",
      "source": [
        "matres_test_dataset[0][0]"
      ],
      "metadata": {
        "colab": {
          "base_uri": "https://localhost:8080/",
          "height": 140
        },
        "id": "N0hRCJMaZTOS",
        "outputId": "9a03faa1-5715-45b2-febf-4ec05e29001d"
      },
      "execution_count": 33,
      "outputs": [
        {
          "output_type": "execute_result",
          "data": {
            "application/vnd.google.colaboratory.intrinsic+json": {
              "type": "string"
            },
            "text/plain": [
              "'timeline generate:  Israeli Prime Minister Benjamin Netanyahu apologized <extra_0> on Friday to Turkish Prime Minister Recep Tayyip Erdogan for a raid on a Turkish flotilla ship, a move that will help restore strained ties between the countries.  The call, which happened as President Barack Obama wrapped <extra_27> up his first presidential visit to Israel, was an unexpected outcome from a Mideast trip that seemed to yield few concrete steps.  Mr. Netanyahu\\'s office confirmed that the Israeli leader, in a conversation with Mr. Erdogan, \"agreed to restore normalization between Israel and Turkey, including the dispatch of ambassadors and the cancellation of legal steps against [Israeli Defense Forces] soldiers.\" Mr. Erdogan accepted the Israeli apology, the prime minister\\'s office said.  Mr. Erdogan has long sought an apology for the raid in May 2010 on the Mavi Marmara, which was part of a flotilla that sought to break Israel\\'s blockade of Gaza. An Israeli raid on the ship left nine passengers dead, all of them Turkish or of Turkish descent.  \"In light of the Israeli investigation into the incident, which pointed out several operational errors, Prime Minister Netanyahu apologized to the Turkish people for any errors that could have led to loss of life and agreed to complete the agreement on compensation,\" the statement said.  Mr. Netanyahu told Mr. Erdogan that what happened on board the Mavi Marmara was \"unintentional and Israel expresses regret over injuries and loss of life,\" according to the statement.  Mr. Obama said later at a news conference in Amman that he had spoken to both leaders over the past two years about how it was in the interests of both countries to restore normal relations.  He said he discussed the issue with Mr. Netanyahu during his visit to Israel this week, and that they agreed the timing was good for a discussion with the Turkish leader.  The incident was a subject of talks between Mr. Netanyahu and President Barack Obama during the president\\'s trip to Israel this week, officials said.  '"
            ]
          },
          "metadata": {},
          "execution_count": 33
        }
      ]
    },
    {
      "cell_type": "code",
      "source": [
        "matres_test_dataset[0][1]"
      ],
      "metadata": {
        "colab": {
          "base_uri": "https://localhost:8080/",
          "height": 37
        },
        "id": "koC9922hRWEC",
        "outputId": "c9df5c8d-30e5-4987-c638-fce7a71dc558"
      },
      "execution_count": 35,
      "outputs": [
        {
          "output_type": "execute_result",
          "data": {
            "application/vnd.google.colaboratory.intrinsic+json": {
              "type": "string"
            },
            "text/plain": [
              "'<extra_0>, <extra_27>'"
            ]
          },
          "metadata": {},
          "execution_count": 35
        }
      ]
    },
    {
      "cell_type": "markdown",
      "source": [
        "# Draft"
      ],
      "metadata": {
        "id": "h4ZuT_Apaa50"
      }
    },
    {
      "cell_type": "code",
      "source": [
        "start = data.find('<TEXT>') + 6\n",
        "end = data.find('</TEXT>') \n",
        "#print(data[start:end])\n",
        "text_tml = data[start:end].replace('\\n', '')\n",
        "\n",
        "# for an event pair \n",
        "rand_maker = ['<extra_' + str(i) + '>' for i in range(31)]\n",
        "random.shuffle(rand_maker)\n",
        "event1 = t3_label[0][1]\n",
        "event2 = t3_label[0][2]\n",
        "event1_id = t3_label[0][3]\n",
        "event2_id = t3_label[0][4]\n",
        "relation = t3_label[0][5]\n",
        "event1_start = text_tml.find('eid=\"e'+str(event1_id)+'\"') + 8 + len(str(event1_id)) \n",
        "event1_end = event1_start+len(event1)\n",
        "\n",
        "#if before or after\n",
        "if text_tml[event1_start:event1_end] == event1:\n",
        "  print('event_1 match')\n",
        "  print(text_tml[:event1_end] + \" \" + rand_maker[0] + text_tml[event1_end:])\n",
        "  text_tml = text_tml[:event1_end] + \" \" + rand_maker[0] + text_tml[event1_end:]\n",
        "\n",
        "event2_start = text_tml.find('eid=\"e'+str(event2_id)+'\"') + 8 + len(str(event2_id)) \n",
        "event2_end = event2_start+len(event2)\n",
        "\n",
        "if text_tml[event2_start:event2_end] == event2:\n",
        "  print('event_2 match')\n",
        "  print(text_tml[:event2_end] + \" \" + rand_maker[1] + text_tml[event2_end:])\n",
        "  text_tml = text_tml[:event2_end] + \" \" + rand_maker[1] + text_tml[event2_end:]\n",
        "\n",
        "# 去掉多余的<>\n",
        "# + timeline generate\n",
        "# 生成 label"
      ],
      "metadata": {
        "colab": {
          "base_uri": "https://localhost:8080/"
        },
        "id": "10AW5Jl-O-hD",
        "outputId": "b2aa8c93-a002-49e1-cdfe-d1c00bc54029"
      },
      "execution_count": 12,
      "outputs": [
        {
          "output_type": "stream",
          "name": "stdout",
          "text": [
            "event_1 match\n",
            "Israeli Prime Minister Benjamin Netanyahu <EVENT class=\"OCCURRENCE\" eid=\"e1\">apologized <extra_27></EVENT> on <TIMEX3 tid=\"t1\" type=\"DATE\" value=\"2013-03-22\">Friday</TIMEX3> to Turkish Prime Minister Recep Tayyip Erdogan for a <EVENT class=\"OCCURRENCE\" eid=\"e2\">raid</EVENT> on a Turkish flotilla ship, a <EVENT class=\"OCCURRENCE\" eid=\"e56\">move</EVENT> that will <EVENT class=\"I_ACTION\" eid=\"e3\">help</EVENT> <EVENT class=\"OCCURRENCE\" eid=\"e4\">restore</EVENT> strained ties between the countries.The <EVENT class=\"OCCURRENCE\" eid=\"e57\">call</EVENT>, which <EVENT class=\"OCCURRENCE\" eid=\"e5\">happened</EVENT> as President Barack Obama <EVENT class=\"OCCURRENCE\" eid=\"e6\">wrapped</EVENT> up his first presidential <EVENT class=\"OCCURRENCE\" eid=\"e7\">visit</EVENT> to Israel, was an unexpected <EVENT class=\"OCCURRENCE\" eid=\"e8\">outcome</EVENT> from a Mideast <EVENT class=\"OCCURRENCE\" eid=\"e9\">trip</EVENT> that <EVENT class=\"I_STATE\" eid=\"e10\">seemed</EVENT> to <EVENT class=\"OCCURRENCE\" eid=\"e11\">yield</EVENT> few concrete steps.Mr. Netanyahu's office <EVENT class=\"REPORTING\" eid=\"e12\">confirmed</EVENT> that the Israeli leader, in a <EVENT class=\"OCCURRENCE\" eid=\"e13\">conversation</EVENT> with Mr. Erdogan, \"<EVENT class=\"I_ACTION\" eid=\"e14\">agreed</EVENT> to <EVENT class=\"OCCURRENCE\" eid=\"e15\">restore</EVENT> normalization between Israel and Turkey, including the <EVENT class=\"OCCURRENCE\" eid=\"e16\">dispatch</EVENT> of ambassadors and the <EVENT class=\"OCCURRENCE\" eid=\"e17\">cancellation</EVENT> of legal steps against [Israeli Defense Forces] soldiers.\" Mr. Erdogan <EVENT class=\"OCCURRENCE\" eid=\"e18\">accepted</EVENT> the Israeli apology, the prime minister's office <EVENT class=\"REPORTING\" eid=\"e19\">said</EVENT>.Mr. Erdogan has long <EVENT class=\"I_ACTION\" eid=\"e20\">sought</EVENT> an apology for the <EVENT class=\"OCCURRENCE\" eid=\"e21\">raid</EVENT> in <TIMEX3 tid=\"t2\" type=\"DATE\" value=\"2010-05\">May 2010</TIMEX3> on the Mavi Marmara, which was part of a flotilla that <EVENT class=\"I_ACTION\" eid=\"e22\">sought</EVENT> to <EVENT class=\"OCCURRENCE\" eid=\"e23\">break</EVENT> Israel's <EVENT class=\"OCCURRENCE\" eid=\"e24\">blockade</EVENT> of Gaza. An Israeli <EVENT class=\"OCCURRENCE\" eid=\"e25\">raid</EVENT> on the ship <EVENT class=\"ASPECTUAL\" eid=\"e26\">left</EVENT> nine passengers <EVENT class=\"STATE\" eid=\"e58\">dead</EVENT>, all of them Turkish or of Turkish descent.\"In light of the Israeli <EVENT class=\"OCCURRENCE\" eid=\"e27\">investigation</EVENT> into the <EVENT class=\"OCCURRENCE\" eid=\"e28\">incident</EVENT>, which <EVENT class=\"REPORTING\" eid=\"e29\">pointed</EVENT> out several operational errors, Prime Minister Netanyahu <EVENT class=\"OCCURRENCE\" eid=\"e31\">apologized</EVENT> to the Turkish people for any <EVENT class=\"OCCURRENCE\" eid=\"e59\">errors</EVENT> that could have led to <EVENT class=\"OCCURRENCE\" eid=\"e33\">loss</EVENT> of life and <EVENT class=\"I_ACTION\" eid=\"e34\">agreed</EVENT> to <EVENT class=\"ASPECTUAL\" eid=\"e35\">complete</EVENT> the agreement on compensation,\" the statement <EVENT class=\"REPORTING\" eid=\"e37\">said</EVENT>.Mr. Netanyahu <EVENT class=\"REPORTING\" eid=\"e38\">told</EVENT> Mr. Erdogan that what <EVENT class=\"OCCURRENCE\" eid=\"e39\">happened</EVENT> on board the Mavi Marmara was \"unintentional and Israel <EVENT class=\"OCCURRENCE\" eid=\"e40\">expresses</EVENT> regret over <EVENT class=\"OCCURRENCE\" eid=\"e60\">injuries</EVENT> and <EVENT class=\"OCCURRENCE\" eid=\"e61\">loss</EVENT> of life,\" according to the statement.Mr. Obama <EVENT class=\"REPORTING\" eid=\"e42\">said</EVENT> later at a news <EVENT class=\"OCCURRENCE\" eid=\"e43\">conference</EVENT> in Amman that he had <EVENT class=\"OCCURRENCE\" eid=\"e44\">spoken</EVENT> to both leaders over <TIMEX3 tid=\"t3\" type=\"DURATION\" value=\"P2Y\">the past two years</TIMEX3> about how it was in the interests of both countries to <EVENT class=\"OCCURRENCE\" eid=\"e45\">restore</EVENT> normal relations.He <EVENT class=\"REPORTING\" eid=\"e46\">said</EVENT> he <EVENT class=\"OCCURRENCE\" eid=\"e47\">discussed</EVENT> the issue with Mr. Netanyahu during his <EVENT class=\"OCCURRENCE\" eid=\"e48\">visit</EVENT> to Israel <TIMEX3 tid=\"t2000\" type=\"DATE\" value=\"2013-W12\">this week</TIMEX3>, and that they <EVENT class=\"I_ACTION\" eid=\"e49\">agreed</EVENT> the timing was <EVENT class=\"STATE\" eid=\"e50\">good</EVENT> for a <EVENT class=\"OCCURRENCE\" eid=\"e51\">discussion</EVENT> with the Turkish leader.The <EVENT class=\"OCCURRENCE\" eid=\"e52\">incident</EVENT> was a subject of <EVENT class=\"OCCURRENCE\" eid=\"e53\">talks</EVENT> between Mr. Netanyahu and President Barack Obama during the president's <EVENT class=\"OCCURRENCE\" eid=\"e54\">trip</EVENT> to Israel <TIMEX3 tid=\"t4\" type=\"DATE\" value=\"2013-W12\">this week</TIMEX3>, officials <EVENT class=\"REPORTING\" eid=\"e55\">said</EVENT>.\n",
            "event_2 match\n",
            "Israeli Prime Minister Benjamin Netanyahu <EVENT class=\"OCCURRENCE\" eid=\"e1\">apologized <extra_27></EVENT> on <TIMEX3 tid=\"t1\" type=\"DATE\" value=\"2013-03-22\">Friday</TIMEX3> to Turkish Prime Minister Recep Tayyip Erdogan for a <EVENT class=\"OCCURRENCE\" eid=\"e2\">raid</EVENT> on a Turkish flotilla ship, a <EVENT class=\"OCCURRENCE\" eid=\"e56\">move</EVENT> that will <EVENT class=\"I_ACTION\" eid=\"e3\">help</EVENT> <EVENT class=\"OCCURRENCE\" eid=\"e4\">restore</EVENT> strained ties between the countries.The <EVENT class=\"OCCURRENCE\" eid=\"e57\">call</EVENT>, which <EVENT class=\"OCCURRENCE\" eid=\"e5\">happened <extra_6></EVENT> as President Barack Obama <EVENT class=\"OCCURRENCE\" eid=\"e6\">wrapped</EVENT> up his first presidential <EVENT class=\"OCCURRENCE\" eid=\"e7\">visit</EVENT> to Israel, was an unexpected <EVENT class=\"OCCURRENCE\" eid=\"e8\">outcome</EVENT> from a Mideast <EVENT class=\"OCCURRENCE\" eid=\"e9\">trip</EVENT> that <EVENT class=\"I_STATE\" eid=\"e10\">seemed</EVENT> to <EVENT class=\"OCCURRENCE\" eid=\"e11\">yield</EVENT> few concrete steps.Mr. Netanyahu's office <EVENT class=\"REPORTING\" eid=\"e12\">confirmed</EVENT> that the Israeli leader, in a <EVENT class=\"OCCURRENCE\" eid=\"e13\">conversation</EVENT> with Mr. Erdogan, \"<EVENT class=\"I_ACTION\" eid=\"e14\">agreed</EVENT> to <EVENT class=\"OCCURRENCE\" eid=\"e15\">restore</EVENT> normalization between Israel and Turkey, including the <EVENT class=\"OCCURRENCE\" eid=\"e16\">dispatch</EVENT> of ambassadors and the <EVENT class=\"OCCURRENCE\" eid=\"e17\">cancellation</EVENT> of legal steps against [Israeli Defense Forces] soldiers.\" Mr. Erdogan <EVENT class=\"OCCURRENCE\" eid=\"e18\">accepted</EVENT> the Israeli apology, the prime minister's office <EVENT class=\"REPORTING\" eid=\"e19\">said</EVENT>.Mr. Erdogan has long <EVENT class=\"I_ACTION\" eid=\"e20\">sought</EVENT> an apology for the <EVENT class=\"OCCURRENCE\" eid=\"e21\">raid</EVENT> in <TIMEX3 tid=\"t2\" type=\"DATE\" value=\"2010-05\">May 2010</TIMEX3> on the Mavi Marmara, which was part of a flotilla that <EVENT class=\"I_ACTION\" eid=\"e22\">sought</EVENT> to <EVENT class=\"OCCURRENCE\" eid=\"e23\">break</EVENT> Israel's <EVENT class=\"OCCURRENCE\" eid=\"e24\">blockade</EVENT> of Gaza. An Israeli <EVENT class=\"OCCURRENCE\" eid=\"e25\">raid</EVENT> on the ship <EVENT class=\"ASPECTUAL\" eid=\"e26\">left</EVENT> nine passengers <EVENT class=\"STATE\" eid=\"e58\">dead</EVENT>, all of them Turkish or of Turkish descent.\"In light of the Israeli <EVENT class=\"OCCURRENCE\" eid=\"e27\">investigation</EVENT> into the <EVENT class=\"OCCURRENCE\" eid=\"e28\">incident</EVENT>, which <EVENT class=\"REPORTING\" eid=\"e29\">pointed</EVENT> out several operational errors, Prime Minister Netanyahu <EVENT class=\"OCCURRENCE\" eid=\"e31\">apologized</EVENT> to the Turkish people for any <EVENT class=\"OCCURRENCE\" eid=\"e59\">errors</EVENT> that could have led to <EVENT class=\"OCCURRENCE\" eid=\"e33\">loss</EVENT> of life and <EVENT class=\"I_ACTION\" eid=\"e34\">agreed</EVENT> to <EVENT class=\"ASPECTUAL\" eid=\"e35\">complete</EVENT> the agreement on compensation,\" the statement <EVENT class=\"REPORTING\" eid=\"e37\">said</EVENT>.Mr. Netanyahu <EVENT class=\"REPORTING\" eid=\"e38\">told</EVENT> Mr. Erdogan that what <EVENT class=\"OCCURRENCE\" eid=\"e39\">happened</EVENT> on board the Mavi Marmara was \"unintentional and Israel <EVENT class=\"OCCURRENCE\" eid=\"e40\">expresses</EVENT> regret over <EVENT class=\"OCCURRENCE\" eid=\"e60\">injuries</EVENT> and <EVENT class=\"OCCURRENCE\" eid=\"e61\">loss</EVENT> of life,\" according to the statement.Mr. Obama <EVENT class=\"REPORTING\" eid=\"e42\">said</EVENT> later at a news <EVENT class=\"OCCURRENCE\" eid=\"e43\">conference</EVENT> in Amman that he had <EVENT class=\"OCCURRENCE\" eid=\"e44\">spoken</EVENT> to both leaders over <TIMEX3 tid=\"t3\" type=\"DURATION\" value=\"P2Y\">the past two years</TIMEX3> about how it was in the interests of both countries to <EVENT class=\"OCCURRENCE\" eid=\"e45\">restore</EVENT> normal relations.He <EVENT class=\"REPORTING\" eid=\"e46\">said</EVENT> he <EVENT class=\"OCCURRENCE\" eid=\"e47\">discussed</EVENT> the issue with Mr. Netanyahu during his <EVENT class=\"OCCURRENCE\" eid=\"e48\">visit</EVENT> to Israel <TIMEX3 tid=\"t2000\" type=\"DATE\" value=\"2013-W12\">this week</TIMEX3>, and that they <EVENT class=\"I_ACTION\" eid=\"e49\">agreed</EVENT> the timing was <EVENT class=\"STATE\" eid=\"e50\">good</EVENT> for a <EVENT class=\"OCCURRENCE\" eid=\"e51\">discussion</EVENT> with the Turkish leader.The <EVENT class=\"OCCURRENCE\" eid=\"e52\">incident</EVENT> was a subject of <EVENT class=\"OCCURRENCE\" eid=\"e53\">talks</EVENT> between Mr. Netanyahu and President Barack Obama during the president's <EVENT class=\"OCCURRENCE\" eid=\"e54\">trip</EVENT> to Israel <TIMEX3 tid=\"t4\" type=\"DATE\" value=\"2013-W12\">this week</TIMEX3>, officials <EVENT class=\"REPORTING\" eid=\"e55\">said</EVENT>.\n"
          ]
        }
      ]
    },
    {
      "cell_type": "code",
      "source": [
        "text_tml\n",
        "re_event=re.compile('</?EVENT.*?>')\n",
        "re_timex3=re.compile('</?TIMEX3.*?>')\n",
        "clean_text=re_event.sub('',text_tml)\n",
        "clean_text=re_timex3.sub('',clean_text)\n",
        "clean_text"
      ],
      "metadata": {
        "colab": {
          "base_uri": "https://localhost:8080/",
          "height": 242
        },
        "id": "Fxemk6HbOWnr",
        "outputId": "283ab651-8bb1-4986-c70f-ee5ee5c19206"
      },
      "execution_count": 15,
      "outputs": [
        {
          "output_type": "execute_result",
          "data": {
            "application/vnd.google.colaboratory.intrinsic+json": {
              "type": "string"
            },
            "text/plain": [
              "'Israeli Prime Minister Benjamin Netanyahu apologized <extra_27> on Friday to Turkish Prime Minister Recep Tayyip Erdogan for a raid on a Turkish flotilla ship, a move that will help restore strained ties between the countries.The call, which happened <extra_6> as President Barack Obama wrapped up his first presidential visit to Israel, was an unexpected outcome from a Mideast trip that seemed to yield few concrete steps.Mr. Netanyahu\\'s office confirmed that the Israeli leader, in a conversation with Mr. Erdogan, \"agreed to restore normalization between Israel and Turkey, including the dispatch of ambassadors and the cancellation of legal steps against [Israeli Defense Forces] soldiers.\" Mr. Erdogan accepted the Israeli apology, the prime minister\\'s office said.Mr. Erdogan has long sought an apology for the raid in May 2010 on the Mavi Marmara, which was part of a flotilla that sought to break Israel\\'s blockade of Gaza. An Israeli raid on the ship left nine passengers dead, all of them Turkish or of Turkish descent.\"In light of the Israeli investigation into the incident, which pointed out several operational errors, Prime Minister Netanyahu apologized to the Turkish people for any errors that could have led to loss of life and agreed to complete the agreement on compensation,\" the statement said.Mr. Netanyahu told Mr. Erdogan that what happened on board the Mavi Marmara was \"unintentional and Israel expresses regret over injuries and loss of life,\" according to the statement.Mr. Obama said later at a news conference in Amman that he had spoken to both leaders over the past two years about how it was in the interests of both countries to restore normal relations.He said he discussed the issue with Mr. Netanyahu during his visit to Israel this week, and that they agreed the timing was good for a discussion with the Turkish leader.The incident was a subject of talks between Mr. Netanyahu and President Barack Obama during the president\\'s trip to Israel this week, officials said.'"
            ]
          },
          "metadata": {},
          "execution_count": 15
        }
      ]
    },
    {
      "cell_type": "code",
      "source": [
        "#rand_maker = ['<extra_' + str(i) + '>' for i in range(31)]\n",
        "#random.shuffle(rand_maker)\n",
        "rand_maker"
      ],
      "metadata": {
        "id": "25fdvinzRbSt"
      },
      "execution_count": null,
      "outputs": []
    },
    {
      "cell_type": "code",
      "source": [
        "start = data.find('<TEXT>') + 6\n",
        "end = data.find('</TEXT>') \n",
        "print(data[start:end])\n",
        "text_tml = data[start:end]"
      ],
      "metadata": {
        "colab": {
          "base_uri": "https://localhost:8080/"
        },
        "id": "IMvgbkr-Ntco",
        "outputId": "6940d850-3696-402a-de85-0f93ffb2c32c"
      },
      "execution_count": 10,
      "outputs": [
        {
          "output_type": "stream",
          "name": "stdout",
          "text": [
            "\n",
            "\n",
            "The flu <EVENT class=\"OCCURRENCE\" eid=\"e1000028\">season</EVENT> is winding down, and it has <EVENT class=\"OCCURRENCE\" eid=\"e2\">killed</EVENT> 105 children so far - about the average toll.\n",
            "\n",
            "The season <EVENT class=\"ASPECTUAL\" eid=\"e3\">started</EVENT> about <TIMEX3 tid=\"t1\" type=\"DURATION\" value=\"P1M\">a month</TIMEX3> earlier than usual, <EVENT class=\"ASPECTUAL\" eid=\"e4\">sparking</EVENT> concerns it might <EVENT class=\"OCCURRENCE\" eid=\"e5\">turn</EVENT> into the worst in <TIMEX3 type=\"DURATION\" value=\"P10Y\" tid=\"t1000\">a decade</TIMEX3>. It <EVENT class=\"ASPECTUAL\" eid=\"e6\">ended</EVENT> up being very hard on the elderly, but was moderately severe overall, <EVENT class=\"REPORTING\" eid=\"e7\">according</EVENT> to the Centers for Disease Control and Prevention.\n",
            "\n",
            "Six of the pediatric <EVENT class=\"OCCURRENCE\" eid=\"e1000030\">deaths</EVENT> were <EVENT class=\"REPORTING\" eid=\"e8\">reported</EVENT> in <TIMEX3 tid=\"t2\" type=\"DATE\" value=\"2013-W11\">the last week</TIMEX3>, and it's possible there will be more, <EVENT class=\"REPORTING\" eid=\"e9\">said</EVENT> the CDC's Dr. Michael Jhung <EVENT class=\"REPORTING\" eid=\"e10\">said</EVENT> <TIMEX3 tid=\"t3\" type=\"DATE\" value=\"2013-03-22\">Friday</TIMEX3>.\n",
            "\n",
            "Roughly 100 children <EVENT class=\"OCCURRENCE\" eid=\"e11\">die</EVENT> in an average flu season. One exception was the swine flu <EVENT class=\"OCCURRENCE\" eid=\"e1000032\">pandemic</EVENT> of <TIMEX3 tid=\"t4\" type=\"DATE\" value=\"2009\">2009</TIMEX3>-<TIMEX3 tid=\"t2000\" type=\"DATE\" value=\"2010\">2010</TIMEX3>, when 348 children <EVENT class=\"OCCURRENCE\" eid=\"e12\">died</EVENT>.\n",
            "\n",
            "The CDC <EVENT class=\"I_ACTION\" eid=\"e13\">recommends</EVENT> that all children ages 6 months and older be <EVENT class=\"OCCURRENCE\" eid=\"e2001\">vaccinated</EVENT> against flu <TIMEX3 tid=\"t5\" type=\"SET\" value=\"XXXX-WI\">each season</TIMEX3>, though only about half get a flu shot or nasal spray.\n",
            "\n",
            "All but four of the children who <EVENT class=\"OCCURRENCE\" eid=\"e16\">died</EVENT> were old enough to be <EVENT class=\"OCCURRENCE\" eid=\"e17\">vaccinated</EVENT>, but 90 percent of them did not get <EVENT class=\"OCCURRENCE\" eid=\"e19\">vaccinated</EVENT>, CDC officials <EVENT class=\"REPORTING\" eid=\"e20\">said</EVENT>.\n",
            "\n",
            "<TIMEX3 tid=\"t6\" type=\"DATE\" value=\"XXXX-WI\">This year</TIMEX3>'s vaccine was <EVENT class=\"I_STATE\" eid=\"e21\">considered</EVENT> effective in children, though it didn't <EVENT class=\"OCCURRENCE\" eid=\"e22\">work</EVENT> very well in older people. And the dominant flu strain early in the <EVENT eid=\"e2002\" class=\"OCCURRENCE\">season</EVENT> was one that tends to cause more severe illness.\n",
            "\n",
            "The government only does a national flu death count for children. But it does track hospitalization rates for people 65 and older, and those statistics have been <EVENT class=\"STATE\" eid=\"e1000033\">grim</EVENT>.\n",
            "\n",
            "In that group, 177 out of every 100,000 were <EVENT class=\"OCCURRENCE\" eid=\"e26\">hospitalized</EVENT> with flu-related illness in <TIMEX3 tid=\"t8\" type=\"DURATION\" value=\"PXM\">the past several months</TIMEX3>. That's more than 2 1/2 times higher than any other <TIMEX3 tid=\"t2001\" type=\"SET\" value=\"XXXX-WI\">recent season</TIMEX3>.\n",
            "\n",
            "This flu <EVENT class=\"OCCURRENCE\" eid=\"e2003\">season</EVENT> <EVENT class=\"ASPECTUAL\" eid=\"e27\">started</EVENT> in <TIMEX3 tid=\"t9\" type=\"DATE\" value=\"2012-12\" mod=\"START\">early December</TIMEX3>, <TIMEX3 tid=\"t10\" type=\"DURATION\" value=\"P1M\">a month</TIMEX3> earlier than usual, and <EVENT class=\"OCCURRENCE\" eid=\"e1000035\">peaked</EVENT> by <TIMEX3 tid=\"t11\" type=\"DATE\" value=\"2012\" mod=\"END\">the end of year</TIMEX3>. Since then, flu reports have been <EVENT class=\"OCCURRENCE\" eid=\"e28\">dropping</EVENT> off throughout the country.\n",
            "\n",
            "\"We <EVENT class=\"PERCEPTION\" eid=\"e29\">appear</EVENT> to be <EVENT class=\"OCCURRENCE\" eid=\"e30\">getting</EVENT> close to the end of flu <EVENT eid=\"e2004\" class=\"OCCURRENCE\">season</EVENT>,\" Jhung <EVENT class=\"REPORTING\" eid=\"e31\">said</EVENT>.\n",
            "\n",
            "\n"
          ]
        }
      ]
    },
    {
      "cell_type": "code",
      "source": [
        "text_tml"
      ],
      "metadata": {
        "colab": {
          "base_uri": "https://localhost:8080/",
          "height": 439
        },
        "id": "QPRI7h6gagkG",
        "outputId": "c1db02a0-ecf6-4412-fd49-a91c7dbdc259"
      },
      "execution_count": null,
      "outputs": [
        {
          "output_type": "execute_result",
          "data": {
            "application/vnd.google.colaboratory.intrinsic+json": {
              "type": "string"
            },
            "text/plain": [
              "'Israeli Prime Minister Benjamin Netanyahu <EVENT class=\"OCCURRENCE\" eid=\"e1\">apologized <extra_28></EVENT> on <TIMEX3 tid=\"t1\" type=\"DATE\" value=\"2013-03-22\">Friday</TIMEX3> to Turkish Prime Minister Recep Tayyip Erdogan for a <EVENT class=\"OCCURRENCE\" eid=\"e2\">raid</EVENT> on a Turkish flotilla ship, a <EVENT class=\"OCCURRENCE\" eid=\"e56\">move</EVENT> that will <EVENT class=\"I_ACTION\" eid=\"e3\">help</EVENT> <EVENT class=\"OCCURRENCE\" eid=\"e4\">restore</EVENT> strained ties between the countries.The <EVENT class=\"OCCURRENCE\" eid=\"e57\">call</EVENT>, which <EVENT class=\"OCCURRENCE\" eid=\"e5\">happened <extra_23></EVENT> as President Barack Obama <EVENT class=\"OCCURRENCE\" eid=\"e6\">wrapped</EVENT> up his first presidential <EVENT class=\"OCCURRENCE\" eid=\"e7\">visit</EVENT> to Israel, was an unexpected <EVENT class=\"OCCURRENCE\" eid=\"e8\">outcome</EVENT> from a Mideast <EVENT class=\"OCCURRENCE\" eid=\"e9\">trip</EVENT> that <EVENT class=\"I_STATE\" eid=\"e10\">seemed</EVENT> to <EVENT class=\"OCCURRENCE\" eid=\"e11\">yield</EVENT> few concrete steps.Mr. Netanyahu\\'s office <EVENT class=\"REPORTING\" eid=\"e12\">confirmed</EVENT> that the Israeli leader, in a <EVENT class=\"OCCURRENCE\" eid=\"e13\">conversation</EVENT> with Mr. Erdogan, \"<EVENT class=\"I_ACTION\" eid=\"e14\">agreed</EVENT> to <EVENT class=\"OCCURRENCE\" eid=\"e15\">restore</EVENT> normalization between Israel and Turkey, including the <EVENT class=\"OCCURRENCE\" eid=\"e16\">dispatch</EVENT> of ambassadors and the <EVENT class=\"OCCURRENCE\" eid=\"e17\">cancellation</EVENT> of legal steps against [Israeli Defense Forces] soldiers.\" Mr. Erdogan <EVENT class=\"OCCURRENCE\" eid=\"e18\">accepted</EVENT> the Israeli apology, the prime minister\\'s office <EVENT class=\"REPORTING\" eid=\"e19\">said</EVENT>.Mr. Erdogan has long <EVENT class=\"I_ACTION\" eid=\"e20\">sought</EVENT> an apology for the <EVENT class=\"OCCURRENCE\" eid=\"e21\">raid</EVENT> in <TIMEX3 tid=\"t2\" type=\"DATE\" value=\"2010-05\">May 2010</TIMEX3> on the Mavi Marmara, which was part of a flotilla that <EVENT class=\"I_ACTION\" eid=\"e22\">sought</EVENT> to <EVENT class=\"OCCURRENCE\" eid=\"e23\">break</EVENT> Israel\\'s <EVENT class=\"OCCURRENCE\" eid=\"e24\">blockade</EVENT> of Gaza. An Israeli <EVENT class=\"OCCURRENCE\" eid=\"e25\">raid</EVENT> on the ship <EVENT class=\"ASPECTUAL\" eid=\"e26\">left</EVENT> nine passengers <EVENT class=\"STATE\" eid=\"e58\">dead</EVENT>, all of them Turkish or of Turkish descent.\"In light of the Israeli <EVENT class=\"OCCURRENCE\" eid=\"e27\">investigation</EVENT> into the <EVENT class=\"OCCURRENCE\" eid=\"e28\">incident</EVENT>, which <EVENT class=\"REPORTING\" eid=\"e29\">pointed</EVENT> out several operational errors, Prime Minister Netanyahu <EVENT class=\"OCCURRENCE\" eid=\"e31\">apologized</EVENT> to the Turkish people for any <EVENT class=\"OCCURRENCE\" eid=\"e59\">errors</EVENT> that could have led to <EVENT class=\"OCCURRENCE\" eid=\"e33\">loss</EVENT> of life and <EVENT class=\"I_ACTION\" eid=\"e34\">agreed</EVENT> to <EVENT class=\"ASPECTUAL\" eid=\"e35\">complete</EVENT> the agreement on compensation,\" the statement <EVENT class=\"REPORTING\" eid=\"e37\">said</EVENT>.Mr. Netanyahu <EVENT class=\"REPORTING\" eid=\"e38\">told</EVENT> Mr. Erdogan that what <EVENT class=\"OCCURRENCE\" eid=\"e39\">happened</EVENT> on board the Mavi Marmara was \"unintentional and Israel <EVENT class=\"OCCURRENCE\" eid=\"e40\">expresses</EVENT> regret over <EVENT class=\"OCCURRENCE\" eid=\"e60\">injuries</EVENT> and <EVENT class=\"OCCURRENCE\" eid=\"e61\">loss</EVENT> of life,\" according to the statement.Mr. Obama <EVENT class=\"REPORTING\" eid=\"e42\">said</EVENT> later at a news <EVENT class=\"OCCURRENCE\" eid=\"e43\">conference</EVENT> in Amman that he had <EVENT class=\"OCCURRENCE\" eid=\"e44\">spoken</EVENT> to both leaders over <TIMEX3 tid=\"t3\" type=\"DURATION\" value=\"P2Y\">the past two years</TIMEX3> about how it was in the interests of both countries to <EVENT class=\"OCCURRENCE\" eid=\"e45\">restore</EVENT> normal relations.He <EVENT class=\"REPORTING\" eid=\"e46\">said</EVENT> he <EVENT class=\"OCCURRENCE\" eid=\"e47\">discussed</EVENT> the issue with Mr. Netanyahu during his <EVENT class=\"OCCURRENCE\" eid=\"e48\">visit</EVENT> to Israel <TIMEX3 tid=\"t2000\" type=\"DATE\" value=\"2013-W12\">this week</TIMEX3>, and that they <EVENT class=\"I_ACTION\" eid=\"e49\">agreed</EVENT> the timing was <EVENT class=\"STATE\" eid=\"e50\">good</EVENT> for a <EVENT class=\"OCCURRENCE\" eid=\"e51\">discussion</EVENT> with the Turkish leader.The <EVENT class=\"OCCURRENCE\" eid=\"e52\">incident</EVENT> was a subject of <EVENT class=\"OCCURRENCE\" eid=\"e53\">talks</EVENT> between Mr. Netanyahu and President Barack Obama during the president\\'s <EVENT class=\"OCCURRENCE\" eid=\"e54\">trip</EVENT> to Israel <TIMEX3 tid=\"t4\" type=\"DATE\" value=\"2013-W12\">this week</TIMEX3>, officials <EVENT class=\"REPORTING\" eid=\"e55\">said</EVENT>.'"
            ]
          },
          "metadata": {},
          "execution_count": 108
        }
      ]
    },
    {
      "cell_type": "code",
      "source": [
        "event2_id"
      ],
      "metadata": {
        "colab": {
          "base_uri": "https://localhost:8080/",
          "height": 35
        },
        "id": "FRnatT6SR2OK",
        "outputId": "4cd80896-0e44-42de-df10-c1615e6a6364"
      },
      "execution_count": null,
      "outputs": [
        {
          "output_type": "execute_result",
          "data": {
            "application/vnd.google.colaboratory.intrinsic+json": {
              "type": "string"
            },
            "text/plain": [
              "'5'"
            ]
          },
          "metadata": {},
          "execution_count": 106
        }
      ]
    },
    {
      "cell_type": "code",
      "source": [
        "match = re.match('Prime', text_tml)\n",
        "if match:\n",
        "  print('yes')\n",
        "  print(match.group())\n"
      ],
      "metadata": {
        "id": "3Sbt-ilXUmri"
      },
      "execution_count": null,
      "outputs": []
    },
    {
      "cell_type": "code",
      "source": [
        ""
      ],
      "metadata": {
        "id": "C10eGZc2Vg-A"
      },
      "execution_count": null,
      "outputs": []
    }
  ]
}